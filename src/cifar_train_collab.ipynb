{
 "cells": [
  {
   "cell_type": "code",
   "execution_count": null,
   "outputs": [],
   "source": [
    "!git clone https://github.com/FabianSommerauer/ViTiny.git"
   ],
   "metadata": {
    "colab": {
     "base_uri": "https://localhost:8080/"
    },
    "id": "tePLIJjMXsmC",
    "outputId": "56cb7633-a926-47c7-a1d0-c76d26059f86"
   }
  },
  {
   "cell_type": "code",
   "source": [
    "!pip install einops"
   ],
   "metadata": {
    "colab": {
     "base_uri": "https://localhost:8080/"
    },
    "id": "TJCCAK4VYbiB",
    "outputId": "a5183040-090c-4575-f06a-4bc8990ec3f5"
   },
   "execution_count": null,
   "outputs": []
  },
  {
   "cell_type": "code",
   "execution_count": null,
   "metadata": {
    "collapsed": true,
    "pycharm": {
     "is_executing": true
    },
    "id": "kJcd75KsXsmK"
   },
   "outputs": [],
   "source": [
    "import os\n",
    "import matplotlib.pyplot as plt\n",
    "import torch.utils.data\n",
    "import torchvision\n",
    "import torchvision.transforms as transforms\n",
    "from einops import rearrange\n",
    "\n",
    "import sys\n",
    "sys.path.append(\"ViTiny/src/\")\n",
    "\n",
    "from ViTinyBase import ViTinyBase\n"
   ]
  },
  {
   "cell_type": "markdown",
   "source": [
    "Basic constants and functions"
   ],
   "metadata": {
    "collapsed": false,
    "id": "24476dQcXsmS"
   }
  },
  {
   "cell_type": "code",
   "execution_count": null,
   "outputs": [],
   "source": [
    "BATCH_SIZE = 50\n",
    "EPOCHS = 10\n",
    "MODELS_FOLDER = './models'\n",
    "\n",
    "# normalizes images from [0,1] to [-1, 1]\n",
    "normalize_images = transforms.Compose([\n",
    "    transforms.ToTensor(),\n",
    "    transforms.Normalize((0.5, 0.5, 0.5), (0.5, 0.5, 0.5))\n",
    "])\n",
    "\n",
    "def imshow(img, label=None):\n",
    "    img = img / 2 + 0.5\n",
    "    img = rearrange(img.numpy(), \"c w h -> w h c\")\n",
    "    plt.imshow(img)\n",
    "    if label:\n",
    "        plt.title(label)\n",
    "    plt.show()"
   ],
   "metadata": {
    "pycharm": {
     "is_executing": true
    },
    "id": "5isCr75yXsma"
   }
  },
  {
   "cell_type": "markdown",
   "source": [
    "Mount google drive (optional)"
   ],
   "metadata": {
    "id": "avWcosFgj0c8"
   }
  },
  {
   "cell_type": "code",
   "source": [
    "from google.colab import drive\n",
    "drive.mount('/content/drive')\n",
    "\n",
    "MODELS_FOLDER = './drive/MyDrive/vitiny_models'"
   ],
   "metadata": {
    "colab": {
     "base_uri": "https://localhost:8080/"
    },
    "id": "f7NfVV9Jj23t",
    "outputId": "53a2182e-9d56-4ec2-efda-9e03176241a2"
   },
   "execution_count": null,
   "outputs": []
  },
  {
   "cell_type": "markdown",
   "source": [
    "Load the data"
   ],
   "metadata": {
    "collapsed": false,
    "id": "l6i4_R3kXsmf"
   }
  },
  {
   "cell_type": "code",
   "execution_count": null,
   "outputs": [],
   "source": [
    "train_set = torchvision.datasets.CIFAR10(root='./data', train=True, download=True,\n",
    "                                             transform=normalize_images)\n",
    "train_loader = torch.utils.data.DataLoader(train_set, batch_size=BATCH_SIZE, shuffle=True,\n",
    "                                           num_workers=5)\n",
    "\n",
    "test_set = torchvision.datasets.CIFAR10(root='./data', train=False, download=True,\n",
    "                                        transform=normalize_images)\n",
    "test_loader = torch.utils.data.DataLoader(test_set, batch_size=BATCH_SIZE, shuffle=False,\n",
    "                                          num_workers=5)"
   ],
   "metadata": {
    "colab": {
     "base_uri": "https://localhost:8080/",
     "height": 103,
     "referenced_widgets": [
      "3610169cace94b28932da377557a002d",
      "2c19c859925d4da69d938046fc5a1917",
      "174b6a70362f4386bcad45a78c5321d3",
      "c86c73949daf493cb7c652fee67a53d5",
      "8bb777117d9447389074813688d39dd9",
      "b2e81119f69f482ca16ffe7b08ad81b2",
      "dfaa457cc7e140ab8227c61ffd6fb94d",
      "1912608027e44e29b23afcf878f592c7",
      "b8cc1f46f0f3495f84f6a7d6d40cc27d",
      "1877839eb69e44c49a250adb69cf11a0",
      "6a2673fa23b94e538c11d01e96d276c8"
     ]
    },
    "id": "5CW6IhoZXsmh",
    "outputId": "28a72720-e577-48d3-a814-f20337cd6fba"
   }
  },
  {
   "cell_type": "markdown",
   "source": [
    "Prepare some variables and show example images"
   ],
   "metadata": {
    "collapsed": false,
    "id": "OEs21euIXsml"
   }
  },
  {
   "cell_type": "code",
   "execution_count": null,
   "outputs": [],
   "source": [
    "classes = ('plane', 'car', 'bird', 'cat',\n",
    "               'deer', 'dog', 'frog', 'horse', 'ship', 'truck')\n",
    "\n",
    "train_iter = iter(train_loader)\n",
    "images, labels = next(train_iter)\n",
    "\n",
    "labels_str = '[' + ', '.join([classes[lbl] for lbl in labels]) + ']'\n",
    "\n",
    "image_size = images.size()[-2:]\n",
    "\n",
    "# split image into 4x4 patches\n",
    "#patch_size = (dim // 4 for dim in image_size)\n",
    "patch_size = (4, 4)"
   ],
   "metadata": {
    "id": "k7LGMXsDXsmn"
   }
  },
  {
   "cell_type": "code",
   "execution_count": null,
   "outputs": [],
   "source": [
    "imshow(torchvision.utils.make_grid(images), labels_str)"
   ],
   "metadata": {
    "colab": {
     "base_uri": "https://localhost:8080/",
     "height": 252
    },
    "id": "3ZguNhUvXsms",
    "outputId": "54d1d9b6-d271-4f6c-bfdc-ed3e4667426c"
   }
  },
  {
   "cell_type": "markdown",
   "source": [
    "Create the model and the necessary loss + optimizer"
   ],
   "metadata": {
    "collapsed": false,
    "id": "hk15aCt-Xsmz"
   }
  },
  {
   "cell_type": "code",
   "execution_count": null,
   "outputs": [],
   "source": [
    "# cuda0 = torch.device('cuda:0')  # CUDA GPU 0\n",
    "os.makedirs(MODELS_FOLDER, exist_ok=True)\n",
    "\n",
    "model = ViTinyBase(image_size, patch_size, len(classes), 8, 16, 16, 8, 16)\n",
    "# model.to(cuda0)\n",
    "\n",
    "loss_func = torch.nn.CrossEntropyLoss()\n",
    "optimizer = torch.optim.Adam(model.parameters())"
   ],
   "metadata": {
    "id": "pCu9UMDvXsm2"
   }
  },
  {
   "cell_type": "markdown",
   "source": [
    "Now we train the model"
   ],
   "metadata": {
    "collapsed": false,
    "id": "qV10MLDKXsm5"
   }
  },
  {
   "cell_type": "code",
   "execution_count": null,
   "outputs": [],
   "source": [
    "print_interval = 200\n",
    "\n",
    "for epoch in range(EPOCHS):\n",
    "    running_loss = 0.0\n",
    "    for i, data in enumerate(train_loader, 0):\n",
    "        inputs, labels = data\n",
    "        # inputs = inputs.to(cuda0)\n",
    "        # labels = labels.to(cuda0)\n",
    "\n",
    "        # zero the parameter gradients\n",
    "        optimizer.zero_grad()\n",
    "\n",
    "        # forward + backward + optimize\n",
    "        outputs = model(inputs)\n",
    "        loss = loss_func(outputs, labels)\n",
    "        loss.backward()\n",
    "        optimizer.step()\n",
    "\n",
    "        # print statistics\n",
    "        running_loss += loss.item()\n",
    "        if i % print_interval == print_interval - 1:  # print every 2000 mini-batches\n",
    "            print(f'[{epoch + 1}, {i + 1:5d}] loss: {running_loss / print_interval:.3f}')\n",
    "            running_loss = 0.0\n",
    "\n",
    "    torch.save(model.state_dict(), os.path.join(MODELS_FOLDER, f'cifar_vitiny_epoch_{epoch + 1}.pth'))\n",
    "\n",
    "torch.save(model.state_dict(), os.path.join(MODELS_FOLDER, 'cifar_vitiny.pth'))\n",
    "print('Finished Training')"
   ],
   "metadata": {
    "colab": {
     "base_uri": "https://localhost:8080/",
     "height": 658
    },
    "id": "WDXjDdcGXsm8",
    "outputId": "06892154-c28d-4355-b113-1dda6533d45e"
   }
  },
  {
   "cell_type": "code",
   "source": [
    "os.makedirs(MODELS_FOLDER, exist_ok=True)\n",
    "torch.save(model.state_dict(), os.path.join(MODELS_FOLDER, 'cifar_vitiny_epoch_3.pth'))"
   ],
   "metadata": {
    "id": "NE_fGLcViZBA"
   },
   "execution_count": null,
   "outputs": []
  }
 ],
 "metadata": {
  "kernelspec": {
   "display_name": "Python 3",
   "language": "python",
   "name": "python3"
  },
  "language_info": {
   "codemirror_mode": {
    "name": "ipython",
    "version": 2
   },
   "file_extension": ".py",
   "mimetype": "text/x-python",
   "name": "python",
   "nbconvert_exporter": "python",
   "pygments_lexer": "ipython2",
   "version": "2.7.6"
  },
  "colab": {
   "provenance": [],
   "collapsed_sections": []
  },
  "accelerator": "TPU",
  "gpuClass": "standard",
  "widgets": {
   "application/vnd.jupyter.widget-state+json": {
    "3610169cace94b28932da377557a002d": {
     "model_module": "@jupyter-widgets/controls",
     "model_name": "HBoxModel",
     "model_module_version": "1.5.0",
     "state": {
      "_dom_classes": [],
      "_model_module": "@jupyter-widgets/controls",
      "_model_module_version": "1.5.0",
      "_model_name": "HBoxModel",
      "_view_count": null,
      "_view_module": "@jupyter-widgets/controls",
      "_view_module_version": "1.5.0",
      "_view_name": "HBoxView",
      "box_style": "",
      "children": [
       "IPY_MODEL_2c19c859925d4da69d938046fc5a1917",
       "IPY_MODEL_174b6a70362f4386bcad45a78c5321d3",
       "IPY_MODEL_c86c73949daf493cb7c652fee67a53d5"
      ],
      "layout": "IPY_MODEL_8bb777117d9447389074813688d39dd9"
     }
    },
    "2c19c859925d4da69d938046fc5a1917": {
     "model_module": "@jupyter-widgets/controls",
     "model_name": "HTMLModel",
     "model_module_version": "1.5.0",
     "state": {
      "_dom_classes": [],
      "_model_module": "@jupyter-widgets/controls",
      "_model_module_version": "1.5.0",
      "_model_name": "HTMLModel",
      "_view_count": null,
      "_view_module": "@jupyter-widgets/controls",
      "_view_module_version": "1.5.0",
      "_view_name": "HTMLView",
      "description": "",
      "description_tooltip": null,
      "layout": "IPY_MODEL_b2e81119f69f482ca16ffe7b08ad81b2",
      "placeholder": "​",
      "style": "IPY_MODEL_dfaa457cc7e140ab8227c61ffd6fb94d",
      "value": "100%"
     }
    },
    "174b6a70362f4386bcad45a78c5321d3": {
     "model_module": "@jupyter-widgets/controls",
     "model_name": "FloatProgressModel",
     "model_module_version": "1.5.0",
     "state": {
      "_dom_classes": [],
      "_model_module": "@jupyter-widgets/controls",
      "_model_module_version": "1.5.0",
      "_model_name": "FloatProgressModel",
      "_view_count": null,
      "_view_module": "@jupyter-widgets/controls",
      "_view_module_version": "1.5.0",
      "_view_name": "ProgressView",
      "bar_style": "success",
      "description": "",
      "description_tooltip": null,
      "layout": "IPY_MODEL_1912608027e44e29b23afcf878f592c7",
      "max": 170498071,
      "min": 0,
      "orientation": "horizontal",
      "style": "IPY_MODEL_b8cc1f46f0f3495f84f6a7d6d40cc27d",
      "value": 170498071
     }
    },
    "c86c73949daf493cb7c652fee67a53d5": {
     "model_module": "@jupyter-widgets/controls",
     "model_name": "HTMLModel",
     "model_module_version": "1.5.0",
     "state": {
      "_dom_classes": [],
      "_model_module": "@jupyter-widgets/controls",
      "_model_module_version": "1.5.0",
      "_model_name": "HTMLModel",
      "_view_count": null,
      "_view_module": "@jupyter-widgets/controls",
      "_view_module_version": "1.5.0",
      "_view_name": "HTMLView",
      "description": "",
      "description_tooltip": null,
      "layout": "IPY_MODEL_1877839eb69e44c49a250adb69cf11a0",
      "placeholder": "​",
      "style": "IPY_MODEL_6a2673fa23b94e538c11d01e96d276c8",
      "value": " 170498071/170498071 [00:01&lt;00:00, 97844264.71it/s]"
     }
    },
    "8bb777117d9447389074813688d39dd9": {
     "model_module": "@jupyter-widgets/base",
     "model_name": "LayoutModel",
     "model_module_version": "1.2.0",
     "state": {
      "_model_module": "@jupyter-widgets/base",
      "_model_module_version": "1.2.0",
      "_model_name": "LayoutModel",
      "_view_count": null,
      "_view_module": "@jupyter-widgets/base",
      "_view_module_version": "1.2.0",
      "_view_name": "LayoutView",
      "align_content": null,
      "align_items": null,
      "align_self": null,
      "border": null,
      "bottom": null,
      "display": null,
      "flex": null,
      "flex_flow": null,
      "grid_area": null,
      "grid_auto_columns": null,
      "grid_auto_flow": null,
      "grid_auto_rows": null,
      "grid_column": null,
      "grid_gap": null,
      "grid_row": null,
      "grid_template_areas": null,
      "grid_template_columns": null,
      "grid_template_rows": null,
      "height": null,
      "justify_content": null,
      "justify_items": null,
      "left": null,
      "margin": null,
      "max_height": null,
      "max_width": null,
      "min_height": null,
      "min_width": null,
      "object_fit": null,
      "object_position": null,
      "order": null,
      "overflow": null,
      "overflow_x": null,
      "overflow_y": null,
      "padding": null,
      "right": null,
      "top": null,
      "visibility": null,
      "width": null
     }
    },
    "b2e81119f69f482ca16ffe7b08ad81b2": {
     "model_module": "@jupyter-widgets/base",
     "model_name": "LayoutModel",
     "model_module_version": "1.2.0",
     "state": {
      "_model_module": "@jupyter-widgets/base",
      "_model_module_version": "1.2.0",
      "_model_name": "LayoutModel",
      "_view_count": null,
      "_view_module": "@jupyter-widgets/base",
      "_view_module_version": "1.2.0",
      "_view_name": "LayoutView",
      "align_content": null,
      "align_items": null,
      "align_self": null,
      "border": null,
      "bottom": null,
      "display": null,
      "flex": null,
      "flex_flow": null,
      "grid_area": null,
      "grid_auto_columns": null,
      "grid_auto_flow": null,
      "grid_auto_rows": null,
      "grid_column": null,
      "grid_gap": null,
      "grid_row": null,
      "grid_template_areas": null,
      "grid_template_columns": null,
      "grid_template_rows": null,
      "height": null,
      "justify_content": null,
      "justify_items": null,
      "left": null,
      "margin": null,
      "max_height": null,
      "max_width": null,
      "min_height": null,
      "min_width": null,
      "object_fit": null,
      "object_position": null,
      "order": null,
      "overflow": null,
      "overflow_x": null,
      "overflow_y": null,
      "padding": null,
      "right": null,
      "top": null,
      "visibility": null,
      "width": null
     }
    },
    "dfaa457cc7e140ab8227c61ffd6fb94d": {
     "model_module": "@jupyter-widgets/controls",
     "model_name": "DescriptionStyleModel",
     "model_module_version": "1.5.0",
     "state": {
      "_model_module": "@jupyter-widgets/controls",
      "_model_module_version": "1.5.0",
      "_model_name": "DescriptionStyleModel",
      "_view_count": null,
      "_view_module": "@jupyter-widgets/base",
      "_view_module_version": "1.2.0",
      "_view_name": "StyleView",
      "description_width": ""
     }
    },
    "1912608027e44e29b23afcf878f592c7": {
     "model_module": "@jupyter-widgets/base",
     "model_name": "LayoutModel",
     "model_module_version": "1.2.0",
     "state": {
      "_model_module": "@jupyter-widgets/base",
      "_model_module_version": "1.2.0",
      "_model_name": "LayoutModel",
      "_view_count": null,
      "_view_module": "@jupyter-widgets/base",
      "_view_module_version": "1.2.0",
      "_view_name": "LayoutView",
      "align_content": null,
      "align_items": null,
      "align_self": null,
      "border": null,
      "bottom": null,
      "display": null,
      "flex": null,
      "flex_flow": null,
      "grid_area": null,
      "grid_auto_columns": null,
      "grid_auto_flow": null,
      "grid_auto_rows": null,
      "grid_column": null,
      "grid_gap": null,
      "grid_row": null,
      "grid_template_areas": null,
      "grid_template_columns": null,
      "grid_template_rows": null,
      "height": null,
      "justify_content": null,
      "justify_items": null,
      "left": null,
      "margin": null,
      "max_height": null,
      "max_width": null,
      "min_height": null,
      "min_width": null,
      "object_fit": null,
      "object_position": null,
      "order": null,
      "overflow": null,
      "overflow_x": null,
      "overflow_y": null,
      "padding": null,
      "right": null,
      "top": null,
      "visibility": null,
      "width": null
     }
    },
    "b8cc1f46f0f3495f84f6a7d6d40cc27d": {
     "model_module": "@jupyter-widgets/controls",
     "model_name": "ProgressStyleModel",
     "model_module_version": "1.5.0",
     "state": {
      "_model_module": "@jupyter-widgets/controls",
      "_model_module_version": "1.5.0",
      "_model_name": "ProgressStyleModel",
      "_view_count": null,
      "_view_module": "@jupyter-widgets/base",
      "_view_module_version": "1.2.0",
      "_view_name": "StyleView",
      "bar_color": null,
      "description_width": ""
     }
    },
    "1877839eb69e44c49a250adb69cf11a0": {
     "model_module": "@jupyter-widgets/base",
     "model_name": "LayoutModel",
     "model_module_version": "1.2.0",
     "state": {
      "_model_module": "@jupyter-widgets/base",
      "_model_module_version": "1.2.0",
      "_model_name": "LayoutModel",
      "_view_count": null,
      "_view_module": "@jupyter-widgets/base",
      "_view_module_version": "1.2.0",
      "_view_name": "LayoutView",
      "align_content": null,
      "align_items": null,
      "align_self": null,
      "border": null,
      "bottom": null,
      "display": null,
      "flex": null,
      "flex_flow": null,
      "grid_area": null,
      "grid_auto_columns": null,
      "grid_auto_flow": null,
      "grid_auto_rows": null,
      "grid_column": null,
      "grid_gap": null,
      "grid_row": null,
      "grid_template_areas": null,
      "grid_template_columns": null,
      "grid_template_rows": null,
      "height": null,
      "justify_content": null,
      "justify_items": null,
      "left": null,
      "margin": null,
      "max_height": null,
      "max_width": null,
      "min_height": null,
      "min_width": null,
      "object_fit": null,
      "object_position": null,
      "order": null,
      "overflow": null,
      "overflow_x": null,
      "overflow_y": null,
      "padding": null,
      "right": null,
      "top": null,
      "visibility": null,
      "width": null
     }
    },
    "6a2673fa23b94e538c11d01e96d276c8": {
     "model_module": "@jupyter-widgets/controls",
     "model_name": "DescriptionStyleModel",
     "model_module_version": "1.5.0",
     "state": {
      "_model_module": "@jupyter-widgets/controls",
      "_model_module_version": "1.5.0",
      "_model_name": "DescriptionStyleModel",
      "_view_count": null,
      "_view_module": "@jupyter-widgets/base",
      "_view_module_version": "1.2.0",
      "_view_name": "StyleView",
      "description_width": ""
     }
    }
   }
  }
 },
 "nbformat": 4,
 "nbformat_minor": 0
}
